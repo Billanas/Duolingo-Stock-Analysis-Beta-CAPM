{
 "cells": [
  {
   "cell_type": "code",
   "execution_count": 1,
   "id": "11d1de50",
   "metadata": {},
   "outputs": [],
   "source": [
    "import pandas as pd\n",
    "import numpy as np\n",
    "import statsmodels.api as sm\n",
    "\n",
    "# Load the CSV file into a pandas dataframe\n",
    "data = pd.read_csv(\"/home/billys/^IXIC.csv\")"
   ]
  },
  {
   "cell_type": "code",
   "execution_count": 3,
   "id": "118b9f49",
   "metadata": {
    "scrolled": true
   },
   "outputs": [
    {
     "data": {
      "text/html": [
       "<div>\n",
       "<style scoped>\n",
       "    .dataframe tbody tr th:only-of-type {\n",
       "        vertical-align: middle;\n",
       "    }\n",
       "\n",
       "    .dataframe tbody tr th {\n",
       "        vertical-align: top;\n",
       "    }\n",
       "\n",
       "    .dataframe thead th {\n",
       "        text-align: right;\n",
       "    }\n",
       "</style>\n",
       "<table border=\"1\" class=\"dataframe\">\n",
       "  <thead>\n",
       "    <tr style=\"text-align: right;\">\n",
       "      <th></th>\n",
       "      <th>Date</th>\n",
       "      <th>IXIC</th>\n",
       "      <th>DUOL</th>\n",
       "    </tr>\n",
       "  </thead>\n",
       "  <tbody>\n",
       "    <tr>\n",
       "      <th>0</th>\n",
       "      <td>2022-04-20</td>\n",
       "      <td>13453.070313</td>\n",
       "      <td>89.370003</td>\n",
       "    </tr>\n",
       "    <tr>\n",
       "      <th>1</th>\n",
       "      <td>2022-04-21</td>\n",
       "      <td>13174.650391</td>\n",
       "      <td>85.910004</td>\n",
       "    </tr>\n",
       "    <tr>\n",
       "      <th>2</th>\n",
       "      <td>2022-04-22</td>\n",
       "      <td>12839.290039</td>\n",
       "      <td>86.000000</td>\n",
       "    </tr>\n",
       "    <tr>\n",
       "      <th>3</th>\n",
       "      <td>2022-04-25</td>\n",
       "      <td>13004.849609</td>\n",
       "      <td>90.190002</td>\n",
       "    </tr>\n",
       "    <tr>\n",
       "      <th>4</th>\n",
       "      <td>2022-04-26</td>\n",
       "      <td>12490.740234</td>\n",
       "      <td>86.260002</td>\n",
       "    </tr>\n",
       "  </tbody>\n",
       "</table>\n",
       "</div>"
      ],
      "text/plain": [
       "         Date          IXIC       DUOL\n",
       "0  2022-04-20  13453.070313  89.370003\n",
       "1  2022-04-21  13174.650391  85.910004\n",
       "2  2022-04-22  12839.290039  86.000000\n",
       "3  2022-04-25  13004.849609  90.190002\n",
       "4  2022-04-26  12490.740234  86.260002"
      ]
     },
     "execution_count": 3,
     "metadata": {},
     "output_type": "execute_result"
    }
   ],
   "source": [
    "data.head()"
   ]
  },
  {
   "cell_type": "code",
   "execution_count": 9,
   "id": "42ff352b",
   "metadata": {},
   "outputs": [],
   "source": [
    "# Calculate the daily returns for Duolingo and the IXIC index\n",
    "duolingo_returns = np.log(data[\"DUOL\"] / data[\"DUOL\"].shift(1)).dropna()\n",
    "ixic_returns = np.log(data[\"IXIC\"] / data[\"IXIC\"].shift(1)).dropna()"
   ]
  },
  {
   "cell_type": "code",
   "execution_count": 31,
   "id": "b9a0a6ab",
   "metadata": {},
   "outputs": [
    {
     "data": {
      "text/plain": [
       "array([[0.0020615 , 0.00044936],\n",
       "       [0.00044936, 0.00035088]])"
      ]
     },
     "execution_count": 31,
     "metadata": {},
     "output_type": "execute_result"
    }
   ],
   "source": [
    "cov = np.cov(duolingo_returns, ixic_returns)\n",
    "cov"
   ]
  },
  {
   "cell_type": "code",
   "execution_count": 10,
   "id": "80ac912a",
   "metadata": {},
   "outputs": [],
   "source": [
    "# Create a dataframe with the returns for both assets\n",
    "data = pd.concat([duolingo_returns, ixic_returns], axis=1)\n",
    "data.columns = [\"Duolingo Returns\", \"IXIC Returns\"]"
   ]
  },
  {
   "cell_type": "code",
   "execution_count": 11,
   "id": "3650f8c4",
   "metadata": {},
   "outputs": [],
   "source": [
    "# Fit a linear regression model of Duolingo returns on IXIC returns\n",
    "model = sm.OLS(data[\"Duolingo Returns\"], sm.add_constant(data[\"IXIC Returns\"]))\n",
    "results = model.fit()"
   ]
  },
  {
   "cell_type": "code",
   "execution_count": 26,
   "id": "a8f98938",
   "metadata": {},
   "outputs": [
    {
     "name": "stdout",
     "output_type": "stream",
     "text": [
      "The beta of Duolingo stock is: 1.2806562006912547\n"
     ]
    }
   ],
   "source": [
    "# Extract the beta coefficient from the results\n",
    "\n",
    "beta = results.params[1]\n",
    "\n",
    "# Print the beta coefficient\n",
    "print(\"The beta of Duolingo stock is:\", beta)"
   ]
  },
  {
   "cell_type": "code",
   "execution_count": 35,
   "id": "fdad8527",
   "metadata": {},
   "outputs": [],
   "source": [
    "rf = 3.60\n",
    "rm = 7.51"
   ]
  },
  {
   "cell_type": "code",
   "execution_count": 36,
   "id": "31f55785",
   "metadata": {},
   "outputs": [],
   "source": [
    "r_Duolingo = rf + beta * (rm - rf)"
   ]
  },
  {
   "cell_type": "code",
   "execution_count": 37,
   "id": "de978a7c",
   "metadata": {},
   "outputs": [
    {
     "name": "stdout",
     "output_type": "stream",
     "text": [
      "The expected return of Duolingo stock is: 8.607365744702806\n"
     ]
    }
   ],
   "source": [
    "# Print the expected return of Duolingo stock\n",
    "print(\"The expected return of Duolingo stock is:\", r_Duolingo)"
   ]
  },
  {
   "cell_type": "code",
   "execution_count": null,
   "id": "bd92016a",
   "metadata": {},
   "outputs": [],
   "source": []
  }
 ],
 "metadata": {
  "kernelspec": {
   "display_name": "Python 3 (ipykernel)",
   "language": "python",
   "name": "python3"
  },
  "language_info": {
   "codemirror_mode": {
    "name": "ipython",
    "version": 3
   },
   "file_extension": ".py",
   "mimetype": "text/x-python",
   "name": "python",
   "nbconvert_exporter": "python",
   "pygments_lexer": "ipython3",
   "version": "3.9.5"
  }
 },
 "nbformat": 4,
 "nbformat_minor": 5
}
